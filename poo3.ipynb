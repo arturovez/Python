{
  "cells": [
    {
      "cell_type": "markdown",
      "metadata": {
        "id": "JnCyXA5tC_91"
      },
      "source": [
        "Realizamos un programa que solicita los nombres de los usuarios a registrar en el taller. El ejemplo es básico en forma estructural, trata de identificar cada parte que lo compone, después trata de hacer lo mismo pero con el paradigna POO."
      ]
    },
    {
      "cell_type": "code",
      "execution_count": 1,
      "metadata": {
        "id": "RbOF0lcqsZzI"
      },
      "outputs": [],
      "source": [
        "# Genera lista nombres\n",
        "nombres = []\n",
        "# Genera lista folios\n",
        "folios = []\n",
        "\n",
        "# Loop infinito\n",
        "while True:\n",
        "    eleccion = input(\"\"\"\n",
        "  1 - Registrar un usuario nuevo\n",
        "  2 - Mostrar usuarios\n",
        "  3 - Eliminar un usuario\n",
        "  4 - Eliminar todos los usuarios\n",
        "  5 - Salir\n",
        "  Selecciona una opción: \"\"\")\n",
        "\n",
        "        if eleccion == \"1\":\n",
        "        nombre = input(\"Nombre del usuario: \")\n",
        "        folio = input(\"Folio del usuaro: \")\n",
        "        nombres.append(nombre)\n",
        "        folios.append(folio)\n",
        "\n",
        "    elif eleccion == \"2\":\n",
        "        if len(nombres) == 0:\n",
        "            print('no hay usuarios')\n",
        "        else:\n",
        "            print(\"+----------+----------+\")\n",
        "            print(\"|NOMBRE    |    FOLIO |\")\n",
        "            print(\"+----------+----------+\")\n",
        "            indice = 0\n",
        "        while indice < len(nombres):\n",
        "            nombre = nombres[indice]\n",
        "            folio = folios[indice]\n",
        "            print(f'| {nombre}    |    {folio}    |')\n",
        "            print(\"+------------+----------+\")\n",
        "            indice = indice + 1\n",
        "\n",
        "    elif eleccion == \"3\":\n",
        "        nombre_usuario = input(\"Nombre del usuario que se elimina: \")\n",
        "        if nombre_usuario in nombres:\n",
        "            indice = nombres.index(nombre_usuario)\n",
        "            del nombres[indice]\n",
        "            del folios[indice]\n",
        "            print(f\"Se elimina {nombre_usuario}\")\n",
        "        else:\n",
        "            print(\"El usuario no existe\")\n",
        "\n",
        "    elif eleccion == \"4\":\n",
        "        if input(\"Seguro (s/n): \") == \"s\":\n",
        "            nombres = []\n",
        "            precios = []\n",
        "            print('se eliminaron todos los usuarios')\n",
        "\n",
        "    elif eleccion == \"5\":\n",
        "        if input(\"Seguro (s/n): \") == \"s\":\n",
        "            break\n",
        "\n",
        "    else:\n",
        "        print('Opción invalida')\n"
      ]
    },
    {
      "cell_type": "markdown",
      "metadata": {
        "id": "SnuHeRzqNsQ1"
      },
      "source": [
        "Ahora usando POO escribe el código del mismo programa"
      ]
    },
    {
      "cell_type": "code",
      "execution_count": null,
      "metadata": {
        "id": "h85WESgANyk-"
      },
      "outputs": [],
      "source": [
        "#Tú código aqui"
      ]
    },
    {
      "cell_type": "markdown",
      "metadata": {
        "id": "FrE_eOnJ0nmP"
      },
      "source": [
        "Ahora usando getters y setters"
      ]
    },
    {
      "cell_type": "code",
      "execution_count": null,
      "metadata": {
        "id": "BNMCmw0l0zTU"
      },
      "outputs": [],
      "source": [
        "#Tú código aqui"
      ]
    }
  ],
  "metadata": {
    "colab": {
      "name": "poo3.ipynb",
      "provenance": []
    },
    "kernelspec": {
      "display_name": "Python 3.10.4 64-bit",
      "language": "python",
      "name": "python3"
    },
    "language_info": {
      "codemirror_mode": {
        "name": "ipython",
        "version": 3
      },
      "file_extension": ".py",
      "mimetype": "text/x-python",
      "name": "python",
      "nbconvert_exporter": "python",
      "pygments_lexer": "ipython3",
      "version": "3.10.4"
    },
    "vscode": {
      "interpreter": {
        "hash": "916dbcbb3f70747c44a77c7bcd40155683ae19c65e1c03b4aa3499c5328201f1"
      }
    }
  },
  "nbformat": 4,
  "nbformat_minor": 0
}

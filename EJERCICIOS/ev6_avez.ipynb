{
 "cells": [
  {
   "cell_type": "markdown",
   "metadata": {},
   "source": [
    "# 6 Práctica \n",
    "Sentencias condicionales. (6 puntos)\n",
    "\n",
    "## Ejercicio 1 (1.5 puntos)\n",
    "Realizar un ejemplo de menú, donde podemos escoger las distintas opciones\n",
    "hasta que seleccionamos la opción de “Salir”.\n",
    "\n",
    "Menú de recomendaciones\n",
    "1. Literatura\n",
    "2. Cine\n",
    "3. Música\n",
    "4. Videojuegos\n",
    "5. Salir\n",
    "\n",
    "### Al ingresar una opcion\n",
    "opcion 1:\n",
    "\n",
    "Lecturas recomendables:\n",
    "\n",
    "* Esperándolo a Tito y otros cuentos de fútbol (Eduardo\n",
    "Sacheri)\n",
    "* El juego de Ender (Orson Scott Card)\n",
    "* El sueño de los héroes (Adolfo Bioy Casares)\n",
    "\n",
    "opcion 2:\n",
    "\n",
    "Películas recomendables:\n",
    "\n",
    "* Matrix (1999)\n",
    "* El último samuray (2003)\n",
    "* Cars (2006)\n",
    "\n",
    "opcion  3:\n",
    "\n",
    "Discos recomendables:\n",
    "\n",
    "* Despedazado por mil partes (La Renga, 1996)\n",
    "* Búfalo (La Mississippi, 2008)\n",
    "* Gaia (Mago de Oz, 2003)\n",
    "\n",
    "opcion 4:\n",
    "\n",
    "* Videojuegos clásicos recomendables\n",
    "* Día del tentáculo (LucasArts, 1993)\n",
    "* Terminal Velocity (Terminal Reality/3D Realms, 1995)\n",
    "* Death Rally (Remedy/Apogee, 1996)\n",
    "\n",
    "opcion  5:\n",
    "\n",
    "Gracias, vuelva prontos\n",
    "\n",
    "Opción no válida, en caso de ingresar un número fuera de las opciones"
   ]
  },
  {
   "cell_type": "code",
   "execution_count": null,
   "metadata": {},
   "outputs": [],
   "source": [
    "opciones = ['Literatura','Cine','Música','Videojuegos','Salir']\n",
    "\n",
    "\n",
    "print('Menú de recomendaciones.\\nSelecciona una opción:')\n",
    "opcion = 0\n",
    "while not(opcion == '5'):\n",
    "    i = 0\n",
    "    for each in opciones:\n",
    "        i += 1\n",
    "        print(f'{i} .- {each}')\n",
    "    print(f'Selecciona Opción:')\n",
    "    opcion = input('Opción')"
   ]
  },
  {
   "cell_type": "code",
   "execution_count": 22,
   "metadata": {},
   "outputs": [
    {
     "name": "stdout",
     "output_type": "stream",
     "text": [
      "Recomendaciones:\n",
      "- literatura\n",
      "- Cine\n",
      "- Música\n",
      "- videojuegos\n",
      "- salir\n",
      "Ingrese opción:\n"
     ]
    }
   ],
   "source": [
    "\n",
    "def salir():\n",
    "    salir = True\n",
    "    return 'salir'\n",
    "\n",
    "rec = {\n",
    "    'literatura' : ['Esperándolo a Tito y otros cuentos de fútbol (EduardoSacheri)','El juego de Ender (Orson Scott Card)','El sueño de los héroes (Adolfo Bioy Casares)'],\n",
    "    'Cine' : ['Matrix (1999)','El último samuray (2003)','Cars (2006)'],\n",
    "    'Música' : ['Despedazado por mil partes (La Renga, 1996)','Búfalo (La Mississippi, 2008)','Gaia (Mago de Oz, 2003)'],\n",
    "    'videojuegos' : ['Día del tentáculo (LucasArts, 1993)','Terminal Velocity (Terminal Reality/3D Realms, 1995)','Death Rally (Remedy/Apogee, 1996)'],\n",
    "    'salir' : salir()\n",
    "}\n",
    "\n",
    "print ('Recomendaciones:')\n",
    "i=0\n",
    "salir = False\n",
    "for each in rec:\n",
    "    print(f'- {each}')\n",
    "print('Ingrese opción:')\n",
    "opcion = input('Opción ')\n",
    "\n",
    "\n",
    "\n",
    "\n",
    "\n",
    "    # print(each)\n",
    "    # for eachother in rec[each]:\n",
    "    #     print(eachother)"
   ]
  },
  {
   "cell_type": "code",
   "execution_count": null,
   "metadata": {},
   "outputs": [],
   "source": [
    "def east(): return \"East\"\n",
    "def west(): return \"West\"\n",
    "def north(): return \"North\"\n",
    "def south(): return \"South\"\n",
    "# map the inputs to the function blocks\n",
    "switch_case = {\n",
    "          1 : east,\n",
    "          2 : west,\n",
    "          3 : north,\n",
    "          4 : south\n",
    "         }\n",
    "print(switch_case[2]())"
   ]
  }
 ],
 "metadata": {
  "kernelspec": {
   "display_name": "Python 3.10.4 64-bit",
   "language": "python",
   "name": "python3"
  },
  "language_info": {
   "codemirror_mode": {
    "name": "ipython",
    "version": 3
   },
   "file_extension": ".py",
   "mimetype": "text/x-python",
   "name": "python",
   "nbconvert_exporter": "python",
   "pygments_lexer": "ipython3",
   "version": "3.10.4"
  },
  "orig_nbformat": 4,
  "vscode": {
   "interpreter": {
    "hash": "916dbcbb3f70747c44a77c7bcd40155683ae19c65e1c03b4aa3499c5328201f1"
   }
  }
 },
 "nbformat": 4,
 "nbformat_minor": 2
}

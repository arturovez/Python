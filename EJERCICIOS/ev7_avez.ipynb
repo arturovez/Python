{
 "cells": [
  {
   "cell_type": "markdown",
   "metadata": {},
   "source": [
    "# Práctica 7. Programación orientada a objetos. (6 puntos)\n",
    "## Ejercicio 1 (2 puntos)\n",
    "Vamos a crear una clase llamada Persona. Sus atributos son: nombre, edad y\n",
    "DNI. Construye los siguientes métodos para la clase:\n",
    "\n",
    "● Un constructor, donde los datos pueden estar vacíos.\n",
    "\n",
    "● Los setters y getters para cada uno de los atributos. Hay que validar las\n",
    "entradas de datos.\n",
    "\n",
    "● mostrar(): Muestra los datos de la persona.\n",
    "\n",
    "● esMayorDeEdad(): Devuelve un valor lógico indicando si es mayor de edad."
   ]
  },
  {
   "cell_type": "code",
   "execution_count": 11,
   "metadata": {},
   "outputs": [
    {
     "ename": "TypeError",
     "evalue": "Persona.__init__() missing 4 required positional arguments: 'nombre', 'aPaterno', 'aMaterno', and 'CURP'",
     "output_type": "error",
     "traceback": [
      "\u001b[0;31m---------------------------------------------------------------------------\u001b[0m",
      "\u001b[0;31mTypeError\u001b[0m                                 Traceback (most recent call last)",
      "\u001b[1;32m/home/arturovez/codigoPilares/Python/EJERCICIOS/ev7_avez.ipynb Cell 2\u001b[0m in \u001b[0;36m<cell line: 12>\u001b[0;34m()\u001b[0m\n\u001b[1;32m      <a href='vscode-notebook-cell://ssh-remote%2Barturovez.com/home/arturovez/codigoPilares/Python/EJERCICIOS/ev7_avez.ipynb#ch0000002vscode-remote?line=8'>9</a>\u001b[0m         \u001b[39mself\u001b[39m\u001b[39m.\u001b[39maMaterno \u001b[39m=\u001b[39m aMaterno\n\u001b[1;32m     <a href='vscode-notebook-cell://ssh-remote%2Barturovez.com/home/arturovez/codigoPilares/Python/EJERCICIOS/ev7_avez.ipynb#ch0000002vscode-remote?line=9'>10</a>\u001b[0m         \u001b[39mself\u001b[39m\u001b[39m.\u001b[39mCURP \u001b[39m=\u001b[39m CURP\n\u001b[0;32m---> <a href='vscode-notebook-cell://ssh-remote%2Barturovez.com/home/arturovez/codigoPilares/Python/EJERCICIOS/ev7_avez.ipynb#ch0000002vscode-remote?line=11'>12</a>\u001b[0m art\u001b[39m=\u001b[39mPersona()\n",
      "\u001b[0;31mTypeError\u001b[0m: Persona.__init__() missing 4 required positional arguments: 'nombre', 'aPaterno', 'aMaterno', and 'CURP'"
     ]
    }
   ],
   "source": [
    "class Persona:\n",
    "    def __init__(self):\n",
    "        print('aok')\n",
    "\n",
    "    def __init__(self, nombre, aPaterno, aMaterno, CURP):\n",
    "        self.edad = edad\n",
    "        self.nombre = nombre\n",
    "        self.aPaterno = aPaterno\n",
    "        self.aMaterno = aMaterno\n",
    "        self.CURP = CURP\n",
    "\n",
    "art=Persona()\n",
    "\n"
   ]
  }
 ],
 "metadata": {
  "kernelspec": {
   "display_name": "Python 3.10.4 64-bit",
   "language": "python",
   "name": "python3"
  },
  "language_info": {
   "codemirror_mode": {
    "name": "ipython",
    "version": 3
   },
   "file_extension": ".py",
   "mimetype": "text/x-python",
   "name": "python",
   "nbconvert_exporter": "python",
   "pygments_lexer": "ipython3",
   "version": "3.10.4"
  },
  "orig_nbformat": 4,
  "vscode": {
   "interpreter": {
    "hash": "31f2aee4e71d21fbe5cf8b01ff0e069b9275f58929596ceb00d14d90e3e16cd6"
   }
  }
 },
 "nbformat": 4,
 "nbformat_minor": 2
}

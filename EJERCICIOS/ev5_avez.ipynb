{
 "cells": [
  {
   "cell_type": "markdown",
   "metadata": {},
   "source": [
    "# 5 Práctica 5. Operadores relacionales. (6 puntos) \n",
    "### 5.1 Ejercicio 1 (2 puntos)\n",
    "Programa que imprima si el número es positivo o negativo, el número debe ser ingresado por consola."
   ]
  },
  {
   "cell_type": "code",
   "execution_count": 1,
   "metadata": {},
   "outputs": [
    {
     "name": "stdout",
     "output_type": "stream",
     "text": [
      "Positivo o Negativo?\n",
      "Ingrese un número\n",
      "El número -5.0 es negativo\n"
     ]
    }
   ],
   "source": [
    "print('Positivo o Negativo?')\n",
    "print('Ingrese un número')\n",
    "try:\n",
    "    num = float(input('Ingrese un número'))\n",
    "    if num == 0:\n",
    "        print('El número es 0')\n",
    "    elif num > 0:\n",
    "        print(f'El número {num} es positivo')\n",
    "    else:\n",
    "        print(f'El número {num} es negativo')\n",
    "except:\n",
    "    print('Error')"
   ]
  },
  {
   "cell_type": "markdown",
   "metadata": {},
   "source": [
    "### 5.2 Ejercicio 2 (2 puntos)\n",
    "Programa que imprima si el número ingresado esta en el rango de 1 a 7, el número se solicita por consola."
   ]
  },
  {
   "cell_type": "code",
   "execution_count": 12,
   "metadata": {},
   "outputs": [
    {
     "name": "stdout",
     "output_type": "stream",
     "text": [
      "En el rango de 1 a 7?\n",
      "Ingrese un número entero\n",
      "OK, dentro de rango\n"
     ]
    }
   ],
   "source": [
    "print('En el rango de 1 a 7?')\n",
    "print('Ingrese un número entero')\n",
    "try:\n",
    "    num = int(input('número:'))\n",
    "    if (1 <= num <= 7):\n",
    "        print('OK, dentro de rango')\n",
    "    else:\n",
    "        print('Error, fuera de rango')\n",
    "except:\n",
    "    print('Error !')"
   ]
  },
  {
   "cell_type": "markdown",
   "metadata": {},
   "source": [
    "### 5.3 Ejercicio 3 (2 puntos)\n",
    "Programa que solicite un monto y que solicite el interés mensual, si el interés es mayor al 30% nos imprimirá que es incorrecto, si es menor realizará el cálculo e imprimira el monto con su interés adicionado."
   ]
  },
  {
   "cell_type": "code",
   "execution_count": 27,
   "metadata": {},
   "outputs": [
    {
     "name": "stdout",
     "output_type": "stream",
     "text": [
      "Cálculo de pago mensual\n",
      "Cuál es el monto?:\n",
      "El monto es $1000.0\n",
      "Cuál es la tasa de interés en % (0 -  30)?\n",
      "El interés es de 5.0%\n",
      "El pago es de $1050.0\n"
     ]
    }
   ],
   "source": [
    "print('Cálculo de pago mensual')\n",
    "try:\n",
    "    print('Cuál es el monto?:')\n",
    "    monto = float(input('Monto:'))\n",
    "    if monto <= 0:\n",
    "        raise Exception('Error, monto menor a 0')\n",
    "    print(f'El monto es ${monto}')\n",
    "    print('Cuál es la tasa de interés en % (0 -  30)?')\n",
    "    interes = float(input('Interés:'))\n",
    "    if not(0 <= interes <= 30):\n",
    "        raise Exception('Error, interés fuera de rango')\n",
    "    print(f'El interés es de {interes}%')\n",
    "    interes = interes / 100\n",
    "    pago = monto + (monto * interes)\n",
    "    print(f'El pago es de ${pago}')\n",
    "\n",
    "    \n",
    "except:\n",
    "    print('ERROR')"
   ]
  }
 ],
 "metadata": {
  "kernelspec": {
   "display_name": "Python 3.10.4 64-bit",
   "language": "python",
   "name": "python3"
  },
  "language_info": {
   "codemirror_mode": {
    "name": "ipython",
    "version": 3
   },
   "file_extension": ".py",
   "mimetype": "text/x-python",
   "name": "python",
   "nbconvert_exporter": "python",
   "pygments_lexer": "ipython3",
   "version": "3.10.4"
  },
  "orig_nbformat": 4,
  "vscode": {
   "interpreter": {
    "hash": "31f2aee4e71d21fbe5cf8b01ff0e069b9275f58929596ceb00d14d90e3e16cd6"
   }
  }
 },
 "nbformat": 4,
 "nbformat_minor": 2
}

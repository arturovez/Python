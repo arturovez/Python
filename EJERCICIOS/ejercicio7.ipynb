{
  "cells": [
    {
      "cell_type": "markdown",
      "metadata": {
        "id": "qbFgShOzJFZV"
      },
      "source": [
        "## Ejercicio 1\n",
        "Vamos a crear una clase llamada Persona. Sus atributos son: nombre, edad y RFC. Construye los siguientes métodos para la clase:\n",
        "\n",
        "Un constructor, donde los datos pueden estar vacíos. Los setters y getters para cada uno de los atributos. Hay que validar las entradas de datos.\n",
        "\n",
        "mostrar(): Muestra los datos de la persona.\n",
        "\n",
        "esMayorDeEdad(): Devuelve un valor lógico indicando si es mayor de edad.\n",
        "\n",
        "\n"
      ]
    },
    {
      "cell_type": "code",
      "execution_count": null,
      "metadata": {
        "id": "4il5rdO7JMSg"
      },
      "outputs": [],
      "source": [
        "#tu código aqui"
      ]
    },
    {
      "cell_type": "markdown",
      "metadata": {
        "id": "lh97_w8SJNHG"
      },
      "source": [
        "## Ejercicio 2\n",
        "Crea una clase llamada Cuenta que tendrá los siguientes atributos: titular (que es una persona) y cantidad (puede tener decimales). El titular será obligatorio y la cantidad es opcional. Construye los siguientes métodos para la clase:\n",
        "\n",
        "Un constructor, donde los datos pueden estar vacíos. Los setters y getters para cada uno de los atributos. El atributo no se puede modificar directamente, sólo ingresando o retirando dinero. mostrar(): Muestra los datos de la cuenta. ingresar(cantidad): se ingresa una cantidad a la cuenta, si la cantidad introducida es negativa, no se hará nada. retirar(cantidad): se retira una cantidad a la cuenta. La cuenta puede estar en números rojos."
      ]
    },
    {
      "cell_type": "code",
      "execution_count": 2,
      "metadata": {
        "id": "42UP87rkJQC9"
      },
      "outputs": [],
      "source": [
        "#tu código aqui"
      ]
    }
  ],
  "metadata": {
    "colab": {
      "name": "ejercicio7.ipynb",
      "provenance": []
    },
    "kernelspec": {
      "display_name": "Python 3.10.4 64-bit",
      "language": "python",
      "name": "python3"
    },
    "language_info": {
      "codemirror_mode": {
        "name": "ipython",
        "version": 3
      },
      "file_extension": ".py",
      "mimetype": "text/x-python",
      "name": "python",
      "nbconvert_exporter": "python",
      "pygments_lexer": "ipython3",
      "version": "3.10.4"
    },
    "vscode": {
      "interpreter": {
        "hash": "916dbcbb3f70747c44a77c7bcd40155683ae19c65e1c03b4aa3499c5328201f1"
      }
    }
  },
  "nbformat": 4,
  "nbformat_minor": 0
}

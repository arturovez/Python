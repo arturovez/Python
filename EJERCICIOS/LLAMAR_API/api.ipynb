{
  "cells": [
    {
      "cell_type": "markdown",
      "metadata": {
        "id": "Et6JU4RfJ4PQ"
      },
      "source": [
        "# Este código le mostrará cómo llamar a la API de Computer Vision desde Python\n",
        "Puedes encontrar documentación sobre el método Computer Vision Analyze Image aquí https://westus.dev.cognitive.microsoft.com/docs/services/5adf991815e1060e6355ad44/operations/56f91f2e778daf14a499e1fa\n",
        "\n",
        "## Usamos la biblioteca de solicitudes para simplificar la realización de una llamada API REST desde Python"
      ]
    },
    {
      "cell_type": "code",
      "execution_count": 1,
      "metadata": {
        "id": "4PJzmbuMJ0Kf"
      },
      "outputs": [],
      "source": [
        "import requests"
      ]
    },
    {
      "cell_type": "markdown",
      "metadata": {
        "id": "hUbpjP4rKVU-"
      },
      "source": [
        " Necesitaremos la biblioteca json para leer los datos devueltos por el servicio web"
      ]
    },
    {
      "cell_type": "code",
      "execution_count": 2,
      "metadata": {
        "id": "Cuy1kJE7KZyI"
      },
      "outputs": [],
      "source": [
        "import json"
      ]
    },
    {
      "cell_type": "markdown",
      "metadata": {
        "id": "9Ce8OpTVKnwz"
      },
      "source": [
        "Ingresamos la clave proporcionada por el servicio"
      ]
    },
    {
      "cell_type": "code",
      "execution_count": 3,
      "metadata": {
        "id": "xYy0R2RjKsjk"
      },
      "outputs": [],
      "source": [
        "SUBSCRIPTION_KEY = '825d2e70998547e7bdd5fe852ceabcaf'"
      ]
    },
    {
      "cell_type": "markdown",
      "metadata": {
        "id": "l5RsoaMeK0II"
      },
      "source": [
        "Ahora la dirección del servicio, si vemos en la documentación nos pide agreguemos a la dirección el complemento vision/v2.0/analyze/"
      ]
    },
    {
      "cell_type": "code",
      "execution_count": 4,
      "metadata": {
        "id": "f3pu9gEKK38D"
      },
      "outputs": [],
      "source": [
        "vision_service_address = \"https://analisisdeimagenprueba.cognitiveservices.azure.com/vision/v2.0/analyze/\""
      ]
    },
    {
      "cell_type": "markdown",
      "metadata": {
        "id": "EIjvvEvnLW9L"
      },
      "source": [
        "Según la documentación de la función de análisis de imagen \n",
        "Hay tres parámetros opcionales: idioma, detalles y características visuales"
      ]
    },
    {
      "cell_type": "code",
      "execution_count": 5,
      "metadata": {
        "id": "vU55eoLsLagT"
      },
      "outputs": [],
      "source": [
        "parameters  = {'visualFeatures':'Description,Color,ImageType','language':'es'}"
      ]
    },
    {
      "cell_type": "markdown",
      "metadata": {
        "id": "WYXjqN2SLrmE"
      },
      "source": [
        "\n",
        "Abra el archivo de imagen para obtener un objeto de archivo que contenga la imagen para analizar, en este caso al usar colab debemos subir la imagen al espacio de colab, para ello importamos la libreria y al ejecutar nospedirá escoger la imagen, la ruta donde se guarda en la nube de colab es /content"
      ]
    },
    {
      "cell_type": "code",
      "execution_count": 6,
      "metadata": {
        "id": "eTnqR8s-L4Ge"
      },
      "outputs": [],
      "source": [
        "image_path = \"img.jpg\"\n",
        "image_data = open(image_path, \"rb\").read()\n"
      ]
    },
    {
      "cell_type": "markdown",
      "metadata": {
        "id": "PBlSiZ5Ofn2G"
      },
      "source": [
        "Según la documentación de la función de análisis de imagen\n",
        "necesitamos especificar la clave de suscripción y el tipo de contenido"
      ]
    },
    {
      "cell_type": "code",
      "execution_count": 7,
      "metadata": {
        "id": "GMlk5vPcTXE6"
      },
      "outputs": [],
      "source": [
        "headers    = {'Content-Type': 'application/octet-stream',\n",
        "              'Ocp-Apim-Subscription-Key': SUBSCRIPTION_KEY}"
      ]
    },
    {
      "cell_type": "markdown",
      "metadata": {
        "id": "GRM_0OE9fxAP"
      },
      "source": [
        "Según la documentación de la función de análisis de imagen\n",
        "usamos HTTP POST para llamar a esta función"
      ]
    },
    {
      "cell_type": "code",
      "execution_count": 8,
      "metadata": {
        "id": "-oqnpFonTZ3r"
      },
      "outputs": [],
      "source": [
        "response = requests.post(vision_service_address, headers=headers, params=parameters, data=image_data)"
      ]
    },
    {
      "cell_type": "markdown",
      "metadata": {
        "id": "jvOWVhaFgFCm"
      },
      "source": [
        "Mostrar los resultados JSON devueltos"
      ]
    },
    {
      "cell_type": "code",
      "execution_count": 9,
      "metadata": {
        "colab": {
          "base_uri": "https://localhost:8080/"
        },
        "id": "EJ4EkLYCTfHX",
        "outputId": "4d91c752-618c-42fc-cff6-4d4d85b3317f"
      },
      "outputs": [
        {
          "name": "stdout",
          "output_type": "stream",
          "text": [
            "{\"color\": {\"dominantColorForeground\": \"Black\", \"dominantColorBackground\": \"Grey\", \"dominantColors\": [\"Grey\", \"Black\", \"White\"], \"accentColor\": \"666666\", \"isBwImg\": true, \"isBWImg\": true}, \"imageType\": {\"clipArtType\": 0, \"lineDrawingType\": 0}, \"description\": {\"tags\": [\"building\", \"outdoor\", \"person\", \"sitting\", \"man\", \"bench\", \"sidewalk\", \"holding\", \"brick\", \"front\", \"street\", \"suit\", \"wearing\", \"old\", \"young\", \"woman\", \"phone\", \"standing\", \"city\"], \"captions\": [{\"text\": \"Paul Banks, Sam Fogarino, Daniel Kessler are posing for a picture\", \"confidence\": 0.8877521595365563}]}, \"requestId\": \"7da39bea-3178-42fb-a1dc-c355a26c86e0\", \"metadata\": {\"height\": 1465, \"width\": 2000, \"format\": \"Jpeg\"}}\n"
          ]
        },
        {
          "data": {
            "text/plain": [
              "{'color': {'dominantColorForeground': 'Black',\n",
              "  'dominantColorBackground': 'Grey',\n",
              "  'dominantColors': ['Grey', 'Black', 'White'],\n",
              "  'accentColor': '666666',\n",
              "  'isBwImg': True,\n",
              "  'isBWImg': True},\n",
              " 'imageType': {'clipArtType': 0, 'lineDrawingType': 0},\n",
              " 'description': {'tags': ['building',\n",
              "   'outdoor',\n",
              "   'person',\n",
              "   'sitting',\n",
              "   'man',\n",
              "   'bench',\n",
              "   'sidewalk',\n",
              "   'holding',\n",
              "   'brick',\n",
              "   'front',\n",
              "   'street',\n",
              "   'suit',\n",
              "   'wearing',\n",
              "   'old',\n",
              "   'young',\n",
              "   'woman',\n",
              "   'phone',\n",
              "   'standing',\n",
              "   'city'],\n",
              "  'captions': [{'text': 'Paul Banks, Sam Fogarino, Daniel Kessler are posing for a picture',\n",
              "    'confidence': 0.8877521595365563}]},\n",
              " 'requestId': '7da39bea-3178-42fb-a1dc-c355a26c86e0',\n",
              " 'metadata': {'height': 1465, 'width': 2000, 'format': 'Jpeg'}}"
            ]
          },
          "execution_count": 9,
          "metadata": {},
          "output_type": "execute_result"
        }
      ],
      "source": [
        "results = response.json()\n",
        "print(json.dumps(results))\n",
        "response.json()"
      ]
    }
  ],
  "metadata": {
    "colab": {
      "collapsed_sections": [],
      "name": "api.ipynb",
      "provenance": []
    },
    "kernelspec": {
      "display_name": "Python 3.10.4 64-bit",
      "language": "python",
      "name": "python3"
    },
    "language_info": {
      "codemirror_mode": {
        "name": "ipython",
        "version": 3
      },
      "file_extension": ".py",
      "mimetype": "text/x-python",
      "name": "python",
      "nbconvert_exporter": "python",
      "pygments_lexer": "ipython3",
      "version": "3.10.4"
    },
    "vscode": {
      "interpreter": {
        "hash": "916dbcbb3f70747c44a77c7bcd40155683ae19c65e1c03b4aa3499c5328201f1"
      }
    }
  },
  "nbformat": 4,
  "nbformat_minor": 0
}

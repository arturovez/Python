{
 "cells": [
  {
   "cell_type": "markdown",
   "metadata": {},
   "source": [
    "# Práctica 9. Programación funcional. (6 puntos)\n",
    "## Ejercicio 1 (2 puntos)\n",
    "Realice un programa que pregunte aleatoriamente una multiplicación. El programa\n",
    "debe indicar si la respuesta ha sido correcta o no (en caso que la respuesta sea\n",
    "incorrecta el programa debe indicar cuál es la correcta). El programa preguntará\n",
    "10 multiplicaciones, y al finalizar mostrará el número de aciertos.\n",
    "\n",
    "#### Análisis\n",
    "* Hacemos un bucle con 10 iteraciones, en cada iteración se inicializan dos\n",
    "números con un valor aleatorio (de 2 a 10). Se calcula la multiplicación.\n",
    "* Mostramos la multiplicación, y pedimos por teclado el resultado. Si\n",
    "coincide con la multiplicación calculada cuento un acierto, sino escribimos un\n",
    "mensaje de error mostrando el resultado correcto. Cuando salimos del bucle\n",
    "mostramos el número de aciertos.\n",
    "\n",
    "Ejemplo. imprime una multiplicacion (9 * 8 =  )por teclado se ingresa la respuesta, eso pasa 10 veces y al final nos imprime cuantas respuestas fueron correctas\n",
    "\n",
    "Recuerda el import random"
   ]
  },
  {
   "cell_type": "code",
   "execution_count": null,
   "metadata": {},
   "outputs": [],
   "source": [
    "import random\n",
    "\n",
    "aciertos = 0\n",
    "for x in range(0,10,1):\n",
    "    num1 = random.randint(2,9)\n",
    "    num2 = random.randint(2,9)\n",
    "    resultado = num1 * num2\n",
    "    resp = input(f'{num1} x {num2} = ')\n",
    "    resp = int(resp)\n",
    "    if resultado == resp:\n",
    "        aciertos = aciertos + 1\n",
    "\n",
    "aciertos"
   ]
  },
  {
   "cell_type": "markdown",
   "metadata": {},
   "source": [
    "## Ejercicio 2 (2 puntos)\n",
    "Obtener el cuadrado de todos los elementos en la lista.\n",
    "\n",
    "Lista: [1,2,3,4,5,6,7,8,9,10]"
   ]
  },
  {
   "cell_type": "code",
   "execution_count": null,
   "metadata": {},
   "outputs": [],
   "source": [
    "def potenciaCuadrado(num):\n",
    "    return pow(num,2)\n",
    "\n",
    "lista = [1,2,3,4,5,6,7,8,9,10]\n",
    "\n",
    "lista2 = list(map(potenciaCuadrado,lista))\n",
    "\n",
    "lista2\n",
    "\n"
   ]
  },
  {
   "cell_type": "markdown",
   "metadata": {},
   "source": [
    "## Ejercicio 3 (2 puntos)\n",
    "Obtener la cantidad de elementos mayores a 5 en la tupla.\n",
    "\n",
    "tupla = (5,2,6,7,8,10,77,55,2,1,30,4,2,3)"
   ]
  },
  {
   "cell_type": "code",
   "execution_count": null,
   "metadata": {},
   "outputs": [],
   "source": [
    "def mayorque5(a):\n",
    "    if (a>5):\n",
    "        return True\n",
    "    else:\n",
    "        return False\n",
    "\n",
    "lista = (5,2,6,7,8,10,77,55,2,1,30,4,2,3,5)\n",
    "mayores5 = list(filter(mayorque5, lista))\n",
    "mayores5"
   ]
  },
  {
   "cell_type": "markdown",
   "metadata": {},
   "source": [
    "## Ejercicio 4 (2 puntos)\n",
    "Obtener la suma de todos los elementos en la lista\n",
    "\n",
    "lista = [1,2,3,4]"
   ]
  },
  {
   "cell_type": "code",
   "execution_count": null,
   "metadata": {},
   "outputs": [],
   "source": [
    "from functools import reduce\n",
    "\n",
    "nums = [1, 2, 3, 4, 10]\n",
    "suma = reduce(lambda x, y: x + y, nums)\n",
    "print(suma) \n"
   ]
  }
 ],
 "metadata": {
  "kernelspec": {
   "display_name": "Python 3.10.4 64-bit",
   "language": "python",
   "name": "python3"
  },
  "language_info": {
   "codemirror_mode": {
    "name": "ipython",
    "version": 3
   },
   "file_extension": ".py",
   "mimetype": "text/x-python",
   "name": "python",
   "nbconvert_exporter": "python",
   "pygments_lexer": "ipython3",
   "version": "3.10.4"
  },
  "orig_nbformat": 4,
  "vscode": {
   "interpreter": {
    "hash": "31f2aee4e71d21fbe5cf8b01ff0e069b9275f58929596ceb00d14d90e3e16cd6"
   }
  }
 },
 "nbformat": 4,
 "nbformat_minor": 2
}

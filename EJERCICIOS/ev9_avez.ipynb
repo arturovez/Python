{
 "cells": [
  {
   "cell_type": "markdown",
   "metadata": {},
   "source": [
    "# Práctica 9. Programación funcional. (6 puntos)\n",
    "## Ejercicio 1 (2 puntos)\n",
    "Realice un programa que pregunte aleatoriamente una multiplicación. El programa\n",
    "debe indicar si la respuesta ha sido correcta o no (en caso que la respuesta sea\n",
    "incorrecta el programa debe indicar cuál es la correcta). El programa preguntará\n",
    "10 multiplicaciones, y al finalizar mostrará el número de aciertos.\n",
    "\n",
    "#### Análisis\n",
    "* Hacemos un bucle con 10 iteraciones, en cada iteración se inicializan dos\n",
    "números con un valor aleatorio (de 2 a 10). Se calcula la multiplicación.\n",
    "* Mostramos la multiplicación, y pedimos por teclado el resultado. Si\n",
    "coincide con la multiplicación calculada cuento un acierto, sino escribimos un\n",
    "mensaje de error mostrando el resultado correcto. Cuando salimos del bucle\n",
    "mostramos el número de aciertos.\n",
    "\n",
    "Ejemplo. imprime una multiplicacion (9 * 8 =  )por teclado se ingresa la respuesta, eso pasa 10 veces y al final nos imprime cuantas respuestas fueron correctas\n",
    "\n",
    "Recuerda el import random"
   ]
  },
  {
   "cell_type": "code",
   "execution_count": 27,
   "metadata": {},
   "outputs": [
    {
     "data": {
      "text/plain": [
       "10"
      ]
     },
     "execution_count": 27,
     "metadata": {},
     "output_type": "execute_result"
    }
   ],
   "source": [
    "import random\n",
    "\n",
    "aciertos = 0\n",
    "for x in range(0,10,1):\n",
    "    num1 = random.randint(1,9)\n",
    "    num2 = random.randint(1,9)\n",
    "    resultado = num1 * num2\n",
    "    resp = input(f'{num1} x {num2} = ')\n",
    "    resp = int(resp)\n",
    "    if resultado == resp:\n",
    "        aciertos = aciertos + 1\n",
    "\n",
    "aciertos\n",
    "\n"
   ]
  }
 ],
 "metadata": {
  "kernelspec": {
   "display_name": "Python 3.10.4 64-bit",
   "language": "python",
   "name": "python3"
  },
  "language_info": {
   "codemirror_mode": {
    "name": "ipython",
    "version": 3
   },
   "file_extension": ".py",
   "mimetype": "text/x-python",
   "name": "python",
   "nbconvert_exporter": "python",
   "pygments_lexer": "ipython3",
   "version": "3.10.4"
  },
  "orig_nbformat": 4,
  "vscode": {
   "interpreter": {
    "hash": "916dbcbb3f70747c44a77c7bcd40155683ae19c65e1c03b4aa3499c5328201f1"
   }
  }
 },
 "nbformat": 4,
 "nbformat_minor": 2
}

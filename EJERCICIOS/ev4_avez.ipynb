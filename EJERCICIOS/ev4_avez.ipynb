{
 "cells": [
  {
   "cell_type": "markdown",
   "metadata": {},
   "source": [
    "# Práctica 4. 6 puntos\n",
    "## Tipos de colección de datos.\n",
    "### 4.1 Ejercicio 1(1.2 puntos)\n",
    "Realizar un programa que inicialice una lista con 10 valores aleatorios (del 1 al 10)\n",
    "y posteriormente muestre en pantalla cada elemento de la lista junto con su\n",
    "cuadrado y su cubo."
   ]
  },
  {
   "cell_type": "code",
   "execution_count": null,
   "metadata": {},
   "outputs": [],
   "source": [
    "from random import randint\n",
    "from math import pow\n",
    "numeros = []\n",
    "for i in range(10):\n",
    "    num = randint(1,10)\n",
    "    numeros.append(num)\n",
    "\n",
    "for num in numeros:\n",
    "    print(f'núm: {num} cuadrado: {int(pow(num, 2))} cubo: {int(pow(num, 3))}')"
   ]
  },
  {
   "cell_type": "markdown",
   "metadata": {},
   "source": [
    "### 4.2 Ejercicio 2 (1.2 puntos)\n",
    "Crea una lista e inicializarla con 5 cadenas de caracteres leídas por teclado. Copia\n",
    "los elementos de la lista en otra lista pero en orden inverso, y muestra sus\n",
    "elementos por la pantalla."
   ]
  },
  {
   "cell_type": "code",
   "execution_count": null,
   "metadata": {},
   "outputs": [],
   "source": [
    "lista = []\n",
    "listaInv = []\n",
    "for i in range(5):\n",
    "    cadena = input(f'Ingrese la cadena núm {i + 1}:')\n",
    "    lista.append(cadena)\n",
    "i = -1\n",
    "for each in lista:\n",
    "    listaInv.insert(i, each)\n",
    "    i -= 1\n",
    "\n",
    "for i in range(len(lista)):\n",
    "    print(f'Elemento {i+1} de lista original: {lista[i]}')\n",
    "\n",
    "for i in range(len(listaInv)):\n",
    "    print(f'Elemento {i+1} de lista original: {listaInv[i]}')\n",
    "\n",
    "\n",
    "\n"
   ]
  },
  {
   "cell_type": "markdown",
   "metadata": {},
   "source": [
    "### 4.3 Ejercicio 3 (1.2 puntos)\n",
    "Se quiere realizar un programa que lea por teclado las 5 notas obtenidas por un\n",
    "alumno (comprendidas entre 0 y 10). A continuación debe mostrar todas las notas,\n",
    "la nota media, la nota más alta que ha sacado y la menor."
   ]
  },
  {
   "cell_type": "code",
   "execution_count": null,
   "metadata": {},
   "outputs": [],
   "source": [
    "notas = []\n",
    "promedio = 0.0\n",
    "maxima = 0.0\n",
    "minima = 10.0\n",
    "\n",
    "print('Promedio de 5 notas:')\n",
    "print('Ingrese las notas:')\n",
    "try:\n",
    "    for i in range(5):\n",
    "        notas.append(float(input(f'Ingrese nota #{i+1}')))\n",
    "        if not(0 <= notas[i] <= 10): raise Exception('ERROR, Nota fuera de rango')\n",
    "        if notas[i] < minima : minima = notas[i]\n",
    "        if notas[i] > maxima : maxima = notas[i]\n",
    "    suma = 0\n",
    "    for nota in notas:\n",
    "        print(f'Calificacion: {nota}')\n",
    "        suma += nota\n",
    "    promedio = suma / len(notas)\n",
    "    print(f'El promedio es de: {promedio}')\n",
    "\n",
    "\n",
    "    \n",
    "except:\n",
    "    print('ERROR')\n",
    "else:\n",
    "    print(f'Mín: {minima}, Máx: {maxima}')\n",
    "\n",
    "\n",
    "\n"
   ]
  },
  {
   "cell_type": "markdown",
   "metadata": {},
   "source": [
    "### 4.4 Ejercicio 4 (1.2 puntos)\n",
    "Codifica un programa en python que nos permita guardar los nombres de los\n",
    "alumnos de una clase y las notas que han obtenido. Cada alumno puede tener\n",
    "distinta cantidad de notas. Guarda la información en un diccionario cuya claves\n",
    "serán los nombres de los alumnos y los valores serán listados con las notas de\n",
    "cada alumno.\n",
    "\n",
    "El programa pedirá el número de alumnos que vamos a introducir, pedirá su\n",
    "nombre e irá pidiendo sus notas hasta que introduzcamos un número negativo. Al\n",
    "final el programa nos mostrará la lista de alumnos y la nota media obtenida por\n",
    "cada uno de ellos. Nota: si se introduce el nombre de un alumno que ya existe el\n",
    "programa nos dará un error."
   ]
  },
  {
   "cell_type": "code",
   "execution_count": 1,
   "metadata": {},
   "outputs": [
    {
     "name": "stdout",
     "output_type": "stream",
     "text": [
      "Diccionario de calificaciones\n",
      "Cuántos alumnos se van a capturar?\n",
      "ERROR\n",
      "Cuántos alumnos se van a capturar?\n",
      "ERROR\n"
     ]
    }
   ],
   "source": [
    "dicAlumnos = {}\n",
    "print('Diccionario de calificaciones')\n",
    "calificacion = 0\n",
    "numAlumnos = 0\n",
    "while not(numAlumnos < 0):\n",
    "    try:\n",
    "        print('Cuántos alumnos se van a capturar?')\n",
    "        numAlumnos = int(input('Cuántos alumnos? '))\n",
    "        if not(1 <= numAlumnos <= 10): raise Exception\n",
    "        for num in range(numAlumnos):\n",
    "            print(f'ingrese el nombre del alumno num {num + 1}:')\n",
    "            nombre = input(f'Nombre {num+1}?')\n",
    "\n",
    "        \n",
    "\n",
    "\n",
    "    except:\n",
    "        print('ERROR')"
   ]
  },
  {
   "cell_type": "markdown",
   "metadata": {},
   "source": [
    "### 4.5 Ejercicio 5 (1.2 puntos)\n",
    "Crea una tupla con los meses del año, pide números al usuario, si el número está\n",
    "entre 1 y la longitud máxima de la tupla, muestra el contenido de esa posición sino\n",
    "muestra un mensaje de error. El programa termina cuando el usuario introduce un\n",
    "cero."
   ]
  },
  {
   "cell_type": "code",
   "execution_count": null,
   "metadata": {},
   "outputs": [],
   "source": [
    "meses = ('enero','febrero','marzo','abril','mayo','junio','julio','agosto','septiembre','octubre','noviembre','diciembre')\n",
    "opcion = 1\n",
    "while not(opcion == 0):\n",
    "    try:\n",
    "        print(f'''Meses del año\n",
    "        ingrese un número del 1 al {len(meses)}\n",
    "        0 para salir. ''')\n",
    "        opcion = int(input('número? '))\n",
    "        if (opcion == 0):\n",
    "            print('SALIR')\n",
    "        elif (1<=opcion<=len(meses)):\n",
    "            print(f'El mes {opcion} es {meses[opcion-1]}')\n",
    "        else:\n",
    "            print(f'Error, {opcion} fuera de rango')\n",
    "    except:\n",
    "        print('ERROR !')\n",
    "\n"
   ]
  }
 ],
 "metadata": {
  "kernelspec": {
   "display_name": "Python 3.10.4 64-bit",
   "language": "python",
   "name": "python3"
  },
  "language_info": {
   "codemirror_mode": {
    "name": "ipython",
    "version": 3
   },
   "file_extension": ".py",
   "mimetype": "text/x-python",
   "name": "python",
   "nbconvert_exporter": "python",
   "pygments_lexer": "ipython3",
   "version": "3.10.4"
  },
  "orig_nbformat": 4,
  "vscode": {
   "interpreter": {
    "hash": "31f2aee4e71d21fbe5cf8b01ff0e069b9275f58929596ceb00d14d90e3e16cd6"
   }
  }
 },
 "nbformat": 4,
 "nbformat_minor": 2
}

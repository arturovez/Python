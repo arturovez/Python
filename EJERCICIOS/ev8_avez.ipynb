{
 "cells": [
  {
   "cell_type": "markdown",
   "metadata": {},
   "source": [
    "# Práctica 8. (6 puntos)\n",
    "## Ejercicio 1 (2 puntos)\n",
    "Escribe un programa python que pida un número por teclado y que cree un\n",
    "diccionario cuyas claves sean desde el número 1 hasta el número indicado, y los\n",
    "valores sean los cuadrados de las claves.\n",
    "\n",
    "Ejemplo: si se ingresa el 4 imprima el cuadrado de 1, de 2, de 3 y de 4\n"
   ]
  },
  {
   "cell_type": "code",
   "execution_count": null,
   "metadata": {},
   "outputs": [],
   "source": []
  },
  {
   "cell_type": "markdown",
   "metadata": {},
   "source": [
    "## Ejercicio 2 (2 puntos)\n",
    "Escribe un programa que lea una cadena y devuelva un diccionario con la\n",
    "cantidad de apariciones de cada carácter en la cadena.\n",
    "\n",
    "Ejemplo: si se ingresa \"paloma\" p=1 a=2 l=1 o=1 m=1"
   ]
  },
  {
   "cell_type": "code",
   "execution_count": null,
   "metadata": {},
   "outputs": [],
   "source": []
  },
  {
   "cell_type": "markdown",
   "metadata": {},
   "source": [
    "## Ejercicio 3 (2 puntos)\n",
    "Vamos a crear un programa en python donde vamos a declarar un diccionario para\n",
    "guardar los precios de las distintas frutas. El programa pedirá el nombre de la fruta\n",
    "y la cantidad que se ha vendido y nos mostrará el precio final de la fruta a partir de\n",
    "los datos guardados en el diccionario. Si la fruta no existe nos dará un error. Tras\n",
    "cada consulta el programa nos preguntará si queremos hacer otra consulta.\n"
   ]
  },
  {
   "cell_type": "code",
   "execution_count": null,
   "metadata": {},
   "outputs": [],
   "source": []
  }
 ],
 "metadata": {
  "kernelspec": {
   "display_name": "Python 3.8.9 64-bit",
   "language": "python",
   "name": "python3"
  },
  "language_info": {
   "name": "python",
   "version": "3.8.9"
  },
  "orig_nbformat": 4,
  "vscode": {
   "interpreter": {
    "hash": "31f2aee4e71d21fbe5cf8b01ff0e069b9275f58929596ceb00d14d90e3e16cd6"
   }
  }
 },
 "nbformat": 4,
 "nbformat_minor": 2
}

{
 "cells": [
  {
   "cell_type": "markdown",
   "metadata": {},
   "source": [
    "# Práctica 8. (6 puntos)\n",
    "## Ejercicio 1 (2 puntos)\n",
    "Escribe un programa python que pida un número por teclado y que cree un\n",
    "diccionario cuyas claves sean desde el número 1 hasta el número indicado, y los\n",
    "valores sean los cuadrados de las claves.\n",
    "\n",
    "Ejemplo: si se ingresa el 4 imprima el cuadrado de 1, de 2, de 3 y de 4\n"
   ]
  },
  {
   "cell_type": "code",
   "execution_count": 22,
   "metadata": {},
   "outputs": [
    {
     "name": "stdout",
     "output_type": "stream",
     "text": [
      "Dado un número, se mostrará el cuadrado de la secuencia de números consecutivos hasta ese número.\n",
      "Ingrese un número del 1 al 10\n",
      "El número es 10\n"
     ]
    },
    {
     "data": {
      "text/plain": [
       "{1: 1, 2: 4, 3: 9, 4: 16, 5: 25, 6: 36, 7: 49, 8: 64, 9: 81, 10: 100}"
      ]
     },
     "execution_count": 22,
     "metadata": {},
     "output_type": "execute_result"
    }
   ],
   "source": [
    "print('Dado un número, se mostrará el cuadrado de la secuencia de números consecutivos hasta ese número.')\n",
    "print('Ingrese un número del 1 al 10')\n",
    "diccionario = {}\n",
    "numero = 0\n",
    "while not(0<numero<=10):\n",
    "    try:\n",
    "        numero = int(input('Ingrese número:'))\n",
    "    except:\n",
    "        print('Qué desgracia !')        \n",
    "    if (0<numero<=10):\n",
    "        break\n",
    "    print('Error, ingrese número del 1 al 10')\n",
    "print(f'El número es {numero}')\n",
    "\n",
    "for x in range(numero):\n",
    "    y = x + 1\n",
    "    diccionario[y] = y * y \n",
    "\n",
    "diccionario\n",
    "    \n"
   ]
  },
  {
   "cell_type": "markdown",
   "metadata": {},
   "source": [
    "## Ejercicio 2 (2 puntos)\n",
    "Escribe un programa que lea una cadena y devuelva un diccionario con la\n",
    "cantidad de apariciones de cada carácter en la cadena.\n",
    "\n",
    "Ejemplo: si se ingresa \"paloma\" p=1 a=2 l=1 o=1 m=1"
   ]
  },
  {
   "cell_type": "code",
   "execution_count": 37,
   "metadata": {},
   "outputs": [
    {
     "name": "stdout",
     "output_type": "stream",
     "text": [
      "Programa que dad auna cadena de texto, cuenta la ocurrencia de cada caracter.\n",
      "DZFBZDFBZDFBZDFBDFBFDFFFFFFFFFFGFGFGFGFGFGFGF\n",
      "{'B': 5, 'D': 6, 'F': 23, 'G': 7, 'Z': 4}\n",
      "Fin de programa\n"
     ]
    }
   ],
   "source": [
    "print(\"Programa que dad auna cadena de texto, cuenta la ocurrencia de cada caracter.\")\n",
    "cadena = input('Ingrese cadenad de texto')\n",
    "print(cadena)\n",
    "lista = []\n",
    "diccionario = {}\n",
    "for each in cadena:\n",
    "    # print(each)\n",
    "    lista.append(each)\n",
    "# print(lista)\n",
    "lista.sort()\n",
    "# print(lista)\n",
    "try:\n",
    "    while(lista[0]):\n",
    "        cuenta = (lista.count(lista[0]))\n",
    "        caracter = lista[0]\n",
    "        diccionario[caracter]=cuenta\n",
    "        # print(diccionario)\n",
    "        for x in range(cuenta):\n",
    "            lista.pop(0)\n",
    "            # print(lista)\n",
    "        if(len(lista)==0):\n",
    "            # print('fin de lista')\n",
    "            break\n",
    "except:\n",
    "    print('Error !')\n",
    "print(diccionario)\n",
    "print('Fin de programa')\n",
    "\n"
   ]
  },
  {
   "cell_type": "markdown",
   "metadata": {},
   "source": [
    "## Ejercicio 3 (2 puntos)\n",
    "Vamos a crear un programa en python donde vamos a declarar un diccionario para\n",
    "guardar los precios de las distintas frutas. El programa pedirá el nombre de la fruta\n",
    "y la cantidad que se ha vendido y nos mostrará el precio final de la fruta a partir de\n",
    "los datos guardados en el diccionario. Si la fruta no existe nos dará un error. Tras\n",
    "cada consulta el programa nos preguntará si queremos hacer otra consulta.\n"
   ]
  },
  {
   "cell_type": "code",
   "execution_count": 55,
   "metadata": {},
   "outputs": [
    {
     "name": "stdout",
     "output_type": "stream",
     "text": [
      "Consulta de Precios\n",
      "45.5\n"
     ]
    }
   ],
   "source": [
    "#Diccionario de precios por Kg\n",
    "dicPrecios = {\n",
    "    \"mango\" : 45.5,\n",
    "    \"manzana\" : 46.2,\n",
    "    \"pera\" : 70,\n",
    "    \"uva\" : 45.5,\n",
    "    \"sandía\" : 45.5,\n",
    "    \"fresa\" : 45.5,\n",
    "    \"platano\" : 45.5,\n",
    "    \"melón\" : 45.5,  \n",
    "}\n",
    "fruta = 'fresa'\n",
    "print('Consulta de Precios')\n",
    "#input fruta\n",
    "if fruta in dicPrecios:\n",
    "    print(dicPrecios[fruta])\n",
    "else:\n",
    "    print(f'Error, {fruta} no existe')\n"
   ]
  },
  {
   "cell_type": "code",
   "execution_count": 50,
   "metadata": {},
   "outputs": [
    {
     "name": "stdout",
     "output_type": "stream",
     "text": [
      "áéí el niño está en el avión\n",
      "aei el nino esta en el avion\n"
     ]
    }
   ],
   "source": [
    "s = 'áéí el niño está en el avión'\n",
    "a,b = 'áéíóúüñÁÉÍÓÚÜÑ','aeiouunAEIOUUN'\n",
    "trans = str.maketrans(a,b)\n",
    "\n",
    "print(s)\n",
    "print(s.translate(trans))"
   ]
  }
 ],
 "metadata": {
  "kernelspec": {
   "display_name": "Python 3.8.9 64-bit",
   "language": "python",
   "name": "python3"
  },
  "language_info": {
   "codemirror_mode": {
    "name": "ipython",
    "version": 3
   },
   "file_extension": ".py",
   "mimetype": "text/x-python",
   "name": "python",
   "nbconvert_exporter": "python",
   "pygments_lexer": "ipython3",
   "version": "3.10.4"
  },
  "orig_nbformat": 4,
  "vscode": {
   "interpreter": {
    "hash": "31f2aee4e71d21fbe5cf8b01ff0e069b9275f58929596ceb00d14d90e3e16cd6"
   }
  }
 },
 "nbformat": 4,
 "nbformat_minor": 2
}
